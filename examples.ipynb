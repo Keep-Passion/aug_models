{
 "cells": [
  {
   "cell_type": "markdown",
   "metadata": {},
   "source": [
    "## How to generate a synthetic dataset \n",
    "For example, use 5% of real data to train pix2pix network and then generate synthetic data."
   ]
  },
  {
   "cell_type": "code",
   "execution_count": null,
   "metadata": {
    "ExecuteTime": {
     "end_time": "2020-05-08T05:42:00.769202Z",
     "start_time": "2020-05-08T03:01:35.406043Z"
    },
    "scrolled": true
   },
   "outputs": [],
   "source": [
    "# Augmentation networks\n",
    "# train pix2pix with real data\n",
    "%run ./scripts/train_pix2pix.py   --name iron_label2real_pix2pix_real_5 \\\n",
    "--gpu_ids 0,1 --batch_size 8 --checkpoints_dir './ckpts/aug_models' \\\n",
    "--dataroot './datasets/' --phase 'train' --label_dir 'real_labels' --image_dir 'real_images' \\\n",
    "--record_txt './datasets/train/records_txt/real_5.txt' \\\n",
    "--display_port 6006 --display_env 'real_5'"
   ]
  },
  {
   "cell_type": "code",
   "execution_count": null,
   "metadata": {
    "ExecuteTime": {
     "end_time": "2020-05-09T15:20:16.333121Z",
     "start_time": "2020-05-09T15:20:07.198206Z"
    },
    "scrolled": true
   },
   "outputs": [],
   "source": [
    "# generate synthetic images with synthctic labels\n",
    "%run ./scripts/generate_samples.py  --name iron_label2real_pix2pix_real_5  --num_test 28800 \\\n",
    "--gpu_ids 0 --batch_size 1 --checkpoints_dir './ckpts/aug_models/' \\\n",
    "--dataroot './datasets/' --phase 'train' --label_dir 'syn_labels' \\\n",
    "--results_dir './datasets/train/syn_images'  --epoch 'latest'"
   ]
  },
  {
   "cell_type": "code",
   "execution_count": null,
   "metadata": {
    "ExecuteTime": {
     "end_time": "2020-05-08T07:28:11.852659Z",
     "start_time": "2020-05-08T07:27:57.319835Z"
    },
    "scrolled": true
   },
   "outputs": [],
   "source": [
    "# check dataset\n",
    "%matplotlib inline\n",
    "%run ./scripts/check_paired_dataset.py --check_num 10 \\\n",
    "--images_path './datasets/train/iron_label2real_pix2pix_real_35/latest/images' \\\n",
    "--labels_path './datasets/train/iron_label2real_pix2pix_real_35/latest/labels/' "
   ]
  },
  {
   "cell_type": "markdown",
   "metadata": {},
   "source": [
    "## Applying in Image segmentations\n",
    "Use real and synthetic data above as data augmentation to train U-Net for Image segmentation"
   ]
  },
  {
   "cell_type": "code",
   "execution_count": null,
   "metadata": {
    "ExecuteTime": {
     "end_time": "2020-05-09T15:20:40.528014Z",
     "start_time": "2020-05-09T15:20:33.660813Z"
    },
    "scrolled": true
   },
   "outputs": [],
   "source": [
    "# our mix train method for image segmentation\n",
    "# train unet with synthetic data\n",
    "%run ./scripts/train.py --net unet --train_type 'mix' --gpu_ids 0,1 \\\n",
    "--dataroot './datasets/' --batch_size 8 \\\n",
    "--train_img_dir_real 'train/real_images' \\\n",
    "--train_label_dir_real 'train/real_labels' \\\n",
    "--train_img_list_real './datasets/train/records_txt/real_5.txt' \\\n",
    "--train_img_dir_syn 'train/syn_images/iron_label2real_pix2pix_real_5/latest' \\\n",
    "--train_label_dir_syn 'train/syn_labels' \\\n",
    "--val_img_dir 'val/real_images' \\\n",
    "--val_label_dir 'val/real_labels' \\\n",
    "--checkpoints_dir './ckpts/seg_models' \\\n",
    "--name 'model_real_5_mix_syn' \\\n",
    "--display_env 'model_real_5_mix_syn' \\\n",
    "--display_port 6006 "
   ]
  },
  {
   "cell_type": "code",
   "execution_count": null,
   "metadata": {
    "ExecuteTime": {
     "end_time": "2020-05-08T10:49:09.795630Z",
     "start_time": "2020-05-08T10:47:03.456006Z"
    },
    "scrolled": true
   },
   "outputs": [],
   "source": [
    "# test our method\n",
    "%run ./scripts/test.py --net unet --name 'model_real_5_mix_syn'\\\n",
    "--checkpoints_dir './ckpts/seg_models/' \\\n",
    "--dataroot './datasets/test/' \\\n",
    "--test_img_dir 'real_images' \\\n",
    "--test_label_dir 'real_labels' \\\n",
    "--epoch 'epoch_4_7200' --results_dir './results/' --gpu_ids 0"
   ]
  },
  {
   "cell_type": "markdown",
   "metadata": {},
   "source": [
    "## Compare to other methods"
   ]
  },
  {
   "cell_type": "code",
   "execution_count": null,
   "metadata": {
    "ExecuteTime": {
     "end_time": "2020-04-29T14:27:56.045382Z",
     "start_time": "2020-04-29T14:26:49.798686Z"
    },
    "scrolled": true
   },
   "outputs": [],
   "source": [
    "# unet\n",
    "# origin train \n",
    "%run ./scripts/train.py --net unet --train_type 'origin' --batch_size 8 --gpu_ids 0,1 \\\n",
    "--dataroot './datasets/' \\\n",
    "--train_img_dir_real 'train/real_images' \\\n",
    "--train_label_dir_real 'train/real_labels' \\\n",
    "--train_img_list_real './datasets/train/records_txt/real_5.txt' \\\n",
    "--val_img_dir 'val/real_images' \\\n",
    "--val_label_dir 'val/real_labels' \\\n",
    "--checkpoints_dir './ckpts/seg_models' \\\n",
    "--name 'model_real_5' \\\n",
    "--display_env 'model_real_5' \\\n",
    "--display_port 6006 "
   ]
  },
  {
   "cell_type": "code",
   "execution_count": null,
   "metadata": {
    "ExecuteTime": {
     "end_time": "2020-05-02T10:32:53.147446Z",
     "start_time": "2020-05-02T10:30:26.095085Z"
    },
    "scrolled": true
   },
   "outputs": [],
   "source": [
    "# test unet\n",
    "%run ./scripts/test.py --net unet --name 'model_real_5'\\\n",
    "--checkpoints_dir './ckpts/seg_models/' \\\n",
    "--dataroot './datasets/test/' \\\n",
    "--test_img_dir 'real_images' \\\n",
    "--test_label_dir 'real_labels' \\\n",
    "--results_dir './results/' --gpu_ids 0"
   ]
  },
  {
   "cell_type": "code",
   "execution_count": null,
   "metadata": {},
   "outputs": [],
   "source": [
    "# ternausnet with pretrained vgg11\n",
    "# train\n",
    "%run ./scripts/train.py --net unet11 --train_type 'origin' --batch_size 8 --gpu_ids 0,1 \\\n",
    "--dataroot './datasets/' \\\n",
    "--train_img_dir_real 'train/real_images' \\\n",
    "--train_label_dir_real 'train/real_labels' \\\n",
    "--train_img_list_real './datasets/train/records_txt/real_5.txt' \\\n",
    "--val_img_dir 'val/real_images' \\\n",
    "--val_label_dir 'val/real_labels' \\\n",
    "--checkpoints_dir './ckpts/seg_models' \\\n",
    "--name 'model_real_5_pretrained_vgg11' \\\n",
    "--display_env 'model_real_5_pretrained_vgg11' \\\n",
    "--display_port 6006 "
   ]
  },
  {
   "cell_type": "code",
   "execution_count": null,
   "metadata": {},
   "outputs": [],
   "source": [
    "# test ternausnet\n",
    "%run ./scripts/test.py --net unet11 --name 'model_real_5_pretrained_vgg11'\\\n",
    "--checkpoints_dir './ckpts/seg_models/' \\\n",
    "--dataroot './datasets/test/' \\\n",
    "--test_img_dir 'real_images' \\\n",
    "--test_label_dir 'real_labels' \\\n",
    "--epoch 'best_val' --results_dir './results/' --gpu_ids 0"
   ]
  },
  {
   "cell_type": "code",
   "execution_count": null,
   "metadata": {},
   "outputs": [],
   "source": [
    "# auto image segmentation by threshold, morphology and edge detection\n",
    "# otsu|canny|watershed|kmeans...\n",
    "%run ./scripts/auto_segmentations.py --images_path './datasets/test/real_images/' --labels_path './datasets/test/real_labels/' \\\n",
    "--results_dir './results/others' --method 'kmeans'"
   ]
  }
 ],
 "metadata": {
  "kernelspec": {
   "display_name": "Python 3",
   "language": "python",
   "name": "python3"
  },
  "language_info": {
   "codemirror_mode": {
    "name": "ipython",
    "version": 3
   },
   "file_extension": ".py",
   "mimetype": "text/x-python",
   "name": "python",
   "nbconvert_exporter": "python",
   "pygments_lexer": "ipython3",
   "version": "3.6.7"
  },
  "varInspector": {
   "cols": {
    "lenName": 16,
    "lenType": 16,
    "lenVar": 40
   },
   "kernels_config": {
    "python": {
     "delete_cmd_postfix": "",
     "delete_cmd_prefix": "del ",
     "library": "var_list.py",
     "varRefreshCmd": "print(var_dic_list())"
    },
    "r": {
     "delete_cmd_postfix": ") ",
     "delete_cmd_prefix": "rm(",
     "library": "var_list.r",
     "varRefreshCmd": "cat(var_dic_list()) "
    }
   },
   "types_to_exclude": [
    "module",
    "function",
    "builtin_function_or_method",
    "instance",
    "_Feature"
   ],
   "window_display": false
  }
 },
 "nbformat": 4,
 "nbformat_minor": 2
}
